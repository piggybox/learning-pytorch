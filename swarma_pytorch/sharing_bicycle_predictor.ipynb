{
 "cells": [
  {
   "cell_type": "code",
   "execution_count": 1,
   "metadata": {},
   "outputs": [],
   "source": [
    "import torch"
   ]
  },
  {
   "cell_type": "code",
   "execution_count": 2,
   "metadata": {},
   "outputs": [
    {
     "data": {
      "text/plain": [
       "tensor([[1.3640e-01, 5.4762e-01, 2.7778e-01, 9.2535e-01, 1.8700e-01, 3.4183e-01,\n",
       "         7.7875e-01, 2.3065e-01, 8.1476e-01, 2.6220e-04],\n",
       "        [9.0700e-01, 6.6084e-01, 8.8966e-01, 9.9994e-02, 4.4780e-01, 2.4810e-01,\n",
       "         3.8170e-01, 3.9942e-01, 8.7958e-01, 6.8390e-01],\n",
       "        [9.4378e-01, 4.3373e-02, 1.4493e-01, 8.1682e-02, 5.0419e-01, 7.1554e-01,\n",
       "         8.0792e-01, 2.1360e-01, 7.4465e-02, 3.7960e-01]])"
      ]
     },
     "execution_count": 2,
     "metadata": {},
     "output_type": "execute_result"
    }
   ],
   "source": [
    "torch.rand(3,10)"
   ]
  },
  {
   "cell_type": "code",
   "execution_count": null,
   "metadata": {},
   "outputs": [],
   "source": []
  }
 ],
 "metadata": {
  "kernelspec": {
   "display_name": "base",
   "language": "python",
   "name": "python3"
  },
  "language_info": {
   "codemirror_mode": {
    "name": "ipython",
    "version": 3
   },
   "file_extension": ".py",
   "mimetype": "text/x-python",
   "name": "python",
   "nbconvert_exporter": "python",
   "pygments_lexer": "ipython3",
   "version": "3.10.9"
  }
 },
 "nbformat": 4,
 "nbformat_minor": 2
}
