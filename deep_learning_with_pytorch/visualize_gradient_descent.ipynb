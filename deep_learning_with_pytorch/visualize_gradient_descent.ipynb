{
 "cells": [
  {
   "cell_type": "code",
   "execution_count": 1,
   "id": "493b4dae",
   "metadata": {},
   "outputs": [],
   "source": [
    "import numpy as np\n",
    "from sklearn.linear_model import LinearRegression\n",
    "from sklearn.preprocessing import StandardScaler"
   ]
  },
  {
   "cell_type": "code",
   "execution_count": 2,
   "id": "96526f8f",
   "metadata": {},
   "outputs": [
    {
     "name": "stdout",
     "output_type": "stream",
     "text": [
      "X: [[0.37454012]\n",
      " [0.95071431]\n",
      " [0.73199394]\n",
      " [0.59865848]\n",
      " [0.15601864]] \n",
      "\n",
      "Y: [[1.75778494]\n",
      " [2.87152788]\n",
      " [2.47316396]\n",
      " [1.99856008]\n",
      " [1.29007009]]\n"
     ]
    }
   ],
   "source": [
    "# Variables initialized\n",
    "true_b = 1\n",
    "true_w = 2\n",
    "N = 100\n",
    "\n",
    "# Data generation process\n",
    "np.random.seed(42)\n",
    "x = np.random.rand(N, 1)\n",
    "epsilon = (.1 * np.random.randn(N, 1))\n",
    "y = true_b + true_w * x + epsilon\n",
    "\n",
    "# Displaying the data that we generated (first 5 values)\n",
    "print(\"X:\", x[:5], \"\\n\\nY:\", y[:5])"
   ]
  },
  {
   "cell_type": "code",
   "execution_count": 3,
   "id": "775a9cac",
   "metadata": {},
   "outputs": [
    {
     "name": "stdout",
     "output_type": "stream",
     "text": [
      "x_train: [[0.77127035]\n",
      " [0.06355835]\n",
      " [0.86310343]\n",
      " [0.02541913]\n",
      " [0.73199394]]\n"
     ]
    }
   ],
   "source": [
    "# Shuffles the indices\n",
    "idx = np.arange(N)\n",
    "np.random.shuffle(idx)\n",
    "\n",
    "# Uses first 80 random indices for train\n",
    "train_idx = idx[:int(N*.8)]\n",
    "# Uses the remaining indices for validation\n",
    "val_idx = idx[int(N*.8):]\n",
    "\n",
    "# Generates train and validation sets\n",
    "x_train, y_train = x[train_idx], y[train_idx]\n",
    "x_val, y_val = x[val_idx], y[val_idx]\n",
    "\n",
    "# Displaying the training set which we will be using in this chapter (first 5 values)\n",
    "print('x_train: {}'.format(x_train[:5]))"
   ]
  },
  {
   "cell_type": "code",
   "execution_count": 4,
   "id": "ec66df1e",
   "metadata": {},
   "outputs": [
    {
     "name": "stdout",
     "output_type": "stream",
     "text": [
      "[0.49671415] [-0.1382643]\n"
     ]
    }
   ],
   "source": [
    "import numpy as np\n",
    "\n",
    "# Step 0 - initializes parameters \"b\" and \"w\" randomly\n",
    "np.random.seed(42)\n",
    "b = np.random.randn(1)\n",
    "w = np.random.randn(1)\n",
    "print(b, w)"
   ]
  },
  {
   "cell_type": "code",
   "execution_count": 5,
   "id": "4d438a9a",
   "metadata": {},
   "outputs": [],
   "source": [
    "# Step 1 - computes our model's predicted output - forward pass\n",
    "yhat = b + w * x_train "
   ]
  },
  {
   "cell_type": "code",
   "execution_count": 6,
   "id": "7811b20a",
   "metadata": {},
   "outputs": [
    {
     "name": "stdout",
     "output_type": "stream",
     "text": [
      "[[0.390075  ]\n",
      " [0.4879263 ]\n",
      " [0.37737776]\n",
      " [0.4931996 ]\n",
      " [0.39550552]]\n"
     ]
    }
   ],
   "source": [
    "# Step 0 - initializes parameters \"b\" and \"w\" randomly\n",
    "np.random.seed(42)\n",
    "b = np.random.randn(1)\n",
    "w = np.random.randn(1)\n",
    "\n",
    "# Step 1 - computes our model's predicted output - forward pass\n",
    "yhat = b + w * x_train \n",
    "# Displaying the model's predicted output using current parameter values (first five values)\n",
    "print(yhat[:5])"
   ]
  },
  {
   "cell_type": "code",
   "execution_count": null,
   "id": "ae5520ee",
   "metadata": {},
   "outputs": [],
   "source": []
  }
 ],
 "metadata": {
  "kernelspec": {
   "display_name": "learning-pytorch",
   "language": "python",
   "name": "python3"
  },
  "language_info": {
   "codemirror_mode": {
    "name": "ipython",
    "version": 3
   },
   "file_extension": ".py",
   "mimetype": "text/x-python",
   "name": "python",
   "nbconvert_exporter": "python",
   "pygments_lexer": "ipython3",
   "version": "3.12.9"
  }
 },
 "nbformat": 4,
 "nbformat_minor": 5
}
